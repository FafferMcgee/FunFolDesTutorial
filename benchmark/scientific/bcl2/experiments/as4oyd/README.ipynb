{
 "cells": [
  {
   "cell_type": "markdown",
   "metadata": {},
   "source": [
    "# AS 4OYD\n",
    "\n",
    "\n",
    "## Question: Can we fold 4OYD with and without binder to be itself?\n",
    "\n",
    "In this scenario, we use __4OYD__ as template, as the source of our motif and binder and as the final target conformation we are aiming to mimic.\n",
    "\n",
    "We will run the protocol with and without a binder. Using full CA constraints from the template.\n",
    "\n",
    "### Nomenclature:\n",
    "\n",
    "* __Template:__ Structure that will accomodate the query motif.  \n",
    "* __Design:__ Chain that we are designing; contains the query motif and is guided by the template info.  \n",
    "* __Binder:__ If any, is whatever protein(s) bind to the query motif.  \n",
    "* __Target:__ Protein that we expect our design to resemble to and to which we compare.  \n"
   ]
  },
  {
   "cell_type": "code",
   "execution_count": null,
   "metadata": {
    "collapsed": true
   },
   "outputs": [],
   "source": []
  }
 ],
 "metadata": {
  "kernelspec": {
   "display_name": "Python 2",
   "language": "python",
   "name": "python2"
  },
  "language_info": {
   "codemirror_mode": {
    "name": "ipython",
    "version": 2
   },
   "file_extension": ".py",
   "mimetype": "text/x-python",
   "name": "python",
   "nbconvert_exporter": "python",
   "pygments_lexer": "ipython2",
   "version": "2.7.12"
  }
 },
 "nbformat": 4,
 "nbformat_minor": 2
}
