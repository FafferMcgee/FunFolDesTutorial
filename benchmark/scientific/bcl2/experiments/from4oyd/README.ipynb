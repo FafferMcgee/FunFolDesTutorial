{
 "cells": [
  {
   "cell_type": "markdown",
   "metadata": {},
   "source": [
    "# FROM 4OYD\n",
    "\n",
    "\n",
    "## Question: Can we fold 3LHP and expect it to mimic the configuration of 4OYD?\n",
    "\n",
    "In this scenario, we use __3LHP__ as template, and __4OYD__ as the source of our motif and binder and as the final target conformation we are aiming to mimic.\n",
    "\n",
    "We will run the protocol with and without a binder. Using full CA constraints from the template (_fullcst_) or just constraints between residues belonging to the same secondary structure (_ssecst_).\n",
    "\n",
    "We will first have a *no_design* run that entails only the __NubInitioMover__. This runs will generate poses that have to be considered as non-final, and, thus, should not be considered on their own without further processing.\n",
    "\n",
    "After that, different design rules are tested:\n",
    "\n",
    "\n",
    "### Nomenclature:\n",
    "\n",
    "* __Template:__ Structure that will accomodate the query motif.  \n",
    "* __Design:__ Chain that we are designing; contains the query motif and is guided by the template info.  \n",
    "* __Binder:__ If any, is whatever protein(s) bind to the query motif.  \n",
    "* __Target:__ Protein that we expect our design to resemble to and to which we compare.  "
   ]
  },
  {
   "cell_type": "code",
   "execution_count": null,
   "metadata": {
    "collapsed": true
   },
   "outputs": [],
   "source": []
  }
 ],
 "metadata": {
  "kernelspec": {
   "display_name": "Python 2",
   "language": "python",
   "name": "python2"
  },
  "language_info": {
   "codemirror_mode": {
    "name": "ipython",
    "version": 2
   },
   "file_extension": ".py",
   "mimetype": "text/x-python",
   "name": "python",
   "nbconvert_exporter": "python",
   "pygments_lexer": "ipython2",
   "version": "2.7.12"
  }
 },
 "nbformat": 4,
 "nbformat_minor": 2
}
